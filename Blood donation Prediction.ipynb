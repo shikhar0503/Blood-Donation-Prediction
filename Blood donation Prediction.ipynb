{
 "cells": [
  {
   "cell_type": "markdown",
   "id": "cbd73376",
   "metadata": {},
   "source": [
    "# Predict Blood Donation for Future anticipation"
   ]
  },
  {
   "cell_type": "markdown",
   "id": "3445cc34",
   "metadata": {},
   "source": [
    "## Introduction"
   ]
  },
  {
   "cell_type": "markdown",
   "id": "43b6d1c4",
   "metadata": {},
   "source": [
    "Blood donation has been around for a long time. The first successful recorded transfusion was between two dogs in 1665, and the first medical use of human blood in a transfusion occurred in 1818. Even today, donated blood remains a critical resource during emergencies.\n",
    "\n",
    "Our dataset is collected from the donor database of Blood Transfusion Service Center in Hsin-Chu City in Taiwan. The center passes its blood transfusion service bus to one university in Hsin-Chu City to gather blood donated about every three months. The dataset, obtained from the UCI Machine Learning Repository, consists of a random sample of 748 donors."
   ]
  },
  {
   "cell_type": "markdown",
   "id": "4775d4ba",
   "metadata": {},
   "source": [
    "## Problem Statement"
   ]
  },
  {
   "cell_type": "markdown",
   "id": "0a7eaf20",
   "metadata": {},
   "source": [
    "We want to predict whether or not a donor will give blood the next time or not. Full model-building process: from inspecting the dataset to using the tpot library to automate your Machine Learning pipeline."
   ]
  },
  {
   "cell_type": "markdown",
   "id": "b2609e3e",
   "metadata": {},
   "source": [
    "## Project Tasks"
   ]
  },
  {
   "cell_type": "markdown",
   "id": "08d85d0f",
   "metadata": {},
   "source": [
    "- Inspecting transfusion.data file\n",
    "- Loading the blood donations data\n",
    "- Inspecting transfusion DataFrame\n",
    "- Creating target column\n",
    "- Checking target incidence\n",
    "- Splitting transfusion into train and test datasets\n",
    "- Selecting model using TPOT\n",
    "- Checking the variance\n",
    "- Log normalization\n",
    "- Training the linear regression model\n",
    "- Conclusion"
   ]
  },
  {
   "cell_type": "markdown",
   "id": "74df93a9",
   "metadata": {},
   "source": [
    "### Loading the blood donations data"
   ]
  },
  {
   "cell_type": "code",
   "execution_count": 1,
   "id": "053f7c85",
   "metadata": {},
   "outputs": [],
   "source": [
    "# Filtering out the warnings\n",
    "import warnings\n",
    "\n",
    "warnings.filterwarnings('ignore')"
   ]
  },
  {
   "cell_type": "code",
   "execution_count": 2,
   "id": "393c4f77",
   "metadata": {},
   "outputs": [
    {
     "name": "stdout",
     "output_type": "stream",
     "text": [
      "Requirement already satisfied: tpot in c:\\users\\nehak\\anaconda3\\lib\\site-packages (0.11.7)\n",
      "Requirement already satisfied: deap>=1.2 in c:\\users\\nehak\\anaconda3\\lib\\site-packages (from tpot) (1.3.1)\n",
      "Requirement already satisfied: tqdm>=4.36.1 in c:\\users\\nehak\\anaconda3\\lib\\site-packages (from tpot) (4.64.0)\n",
      "Requirement already satisfied: pandas>=0.24.2 in c:\\users\\nehak\\anaconda3\\lib\\site-packages (from tpot) (1.4.2)\n",
      "Requirement already satisfied: joblib>=0.13.2 in c:\\users\\nehak\\anaconda3\\lib\\site-packages (from tpot) (1.1.0)\n",
      "Requirement already satisfied: scikit-learn>=0.22.0 in c:\\users\\nehak\\anaconda3\\lib\\site-packages (from tpot) (1.0.2)\n",
      "Requirement already satisfied: numpy>=1.16.3 in c:\\users\\nehak\\anaconda3\\lib\\site-packages (from tpot) (1.21.5)\n",
      "Requirement already satisfied: stopit>=1.1.1 in c:\\users\\nehak\\anaconda3\\lib\\site-packages (from tpot) (1.1.2)\n",
      "Requirement already satisfied: update-checker>=0.16 in c:\\users\\nehak\\anaconda3\\lib\\site-packages (from tpot) (0.18.0)\n",
      "Requirement already satisfied: xgboost>=1.1.0 in c:\\users\\nehak\\anaconda3\\lib\\site-packages (from tpot) (1.5.2)\n",
      "Requirement already satisfied: scipy>=1.3.1 in c:\\users\\nehak\\anaconda3\\lib\\site-packages (from tpot) (1.7.3)\n",
      "Requirement already satisfied: pytz>=2020.1 in c:\\users\\nehak\\anaconda3\\lib\\site-packages (from pandas>=0.24.2->tpot) (2021.3)\n",
      "Requirement already satisfied: python-dateutil>=2.8.1 in c:\\users\\nehak\\anaconda3\\lib\\site-packages (from pandas>=0.24.2->tpot) (2.8.2)\n",
      "Requirement already satisfied: threadpoolctl>=2.0.0 in c:\\users\\nehak\\anaconda3\\lib\\site-packages (from scikit-learn>=0.22.0->tpot) (2.2.0)\n",
      "Requirement already satisfied: colorama in c:\\users\\nehak\\anaconda3\\lib\\site-packages (from tqdm>=4.36.1->tpot) (0.4.4)\n",
      "Requirement already satisfied: requests>=2.3.0 in c:\\users\\nehak\\anaconda3\\lib\\site-packages (from update-checker>=0.16->tpot) (2.27.1)\n",
      "Requirement already satisfied: six>=1.5 in c:\\users\\nehak\\anaconda3\\lib\\site-packages (from python-dateutil>=2.8.1->pandas>=0.24.2->tpot) (1.16.0)\n",
      "Requirement already satisfied: charset-normalizer~=2.0.0 in c:\\users\\nehak\\anaconda3\\lib\\site-packages (from requests>=2.3.0->update-checker>=0.16->tpot) (2.0.4)\n",
      "Requirement already satisfied: idna<4,>=2.5 in c:\\users\\nehak\\anaconda3\\lib\\site-packages (from requests>=2.3.0->update-checker>=0.16->tpot) (3.3)\n",
      "Requirement already satisfied: certifi>=2017.4.17 in c:\\users\\nehak\\anaconda3\\lib\\site-packages (from requests>=2.3.0->update-checker>=0.16->tpot) (2021.10.8)\n",
      "Requirement already satisfied: urllib3<1.27,>=1.21.1 in c:\\users\\nehak\\anaconda3\\lib\\site-packages (from requests>=2.3.0->update-checker>=0.16->tpot) (1.26.9)\n",
      "Note: you may need to restart the kernel to use updated packages.\n"
     ]
    }
   ],
   "source": [
    "pip install tpot"
   ]
  },
  {
   "cell_type": "code",
   "execution_count": 3,
   "id": "c6f774e0",
   "metadata": {},
   "outputs": [],
   "source": [
    "# Importing the required libraries\n",
    "\n",
    "import numpy as np\n",
    "import pandas as pd\n",
    "\n",
    "from sklearn.model_selection import train_test_split\n",
    "from tpot import TPOTClassifier\n",
    "from sklearn.metrics import confusion_matrix,accuracy_score,roc_auc_score\n",
    "\n",
    "import seaborn as sns\n",
    "import matplotlib.pyplot as plt\n",
    "%matplotlib inline"
   ]
  },
  {
   "cell_type": "code",
   "execution_count": 4,
   "id": "b6648654",
   "metadata": {},
   "outputs": [
    {
     "data": {
      "text/html": [
       "<div>\n",
       "<style scoped>\n",
       "    .dataframe tbody tr th:only-of-type {\n",
       "        vertical-align: middle;\n",
       "    }\n",
       "\n",
       "    .dataframe tbody tr th {\n",
       "        vertical-align: top;\n",
       "    }\n",
       "\n",
       "    .dataframe thead th {\n",
       "        text-align: right;\n",
       "    }\n",
       "</style>\n",
       "<table border=\"1\" class=\"dataframe\">\n",
       "  <thead>\n",
       "    <tr style=\"text-align: right;\">\n",
       "      <th></th>\n",
       "      <th>Recency (months)</th>\n",
       "      <th>Frequency (times)</th>\n",
       "      <th>Monetary (c.c. blood)</th>\n",
       "      <th>Time (months)</th>\n",
       "      <th>whether he/she donated blood in March 2007</th>\n",
       "    </tr>\n",
       "  </thead>\n",
       "  <tbody>\n",
       "    <tr>\n",
       "      <th>0</th>\n",
       "      <td>2</td>\n",
       "      <td>50</td>\n",
       "      <td>12500</td>\n",
       "      <td>98</td>\n",
       "      <td>1</td>\n",
       "    </tr>\n",
       "    <tr>\n",
       "      <th>1</th>\n",
       "      <td>0</td>\n",
       "      <td>13</td>\n",
       "      <td>3250</td>\n",
       "      <td>28</td>\n",
       "      <td>1</td>\n",
       "    </tr>\n",
       "    <tr>\n",
       "      <th>2</th>\n",
       "      <td>1</td>\n",
       "      <td>16</td>\n",
       "      <td>4000</td>\n",
       "      <td>35</td>\n",
       "      <td>1</td>\n",
       "    </tr>\n",
       "    <tr>\n",
       "      <th>3</th>\n",
       "      <td>2</td>\n",
       "      <td>20</td>\n",
       "      <td>5000</td>\n",
       "      <td>45</td>\n",
       "      <td>1</td>\n",
       "    </tr>\n",
       "    <tr>\n",
       "      <th>4</th>\n",
       "      <td>1</td>\n",
       "      <td>24</td>\n",
       "      <td>6000</td>\n",
       "      <td>77</td>\n",
       "      <td>0</td>\n",
       "    </tr>\n",
       "  </tbody>\n",
       "</table>\n",
       "</div>"
      ],
      "text/plain": [
       "   Recency (months)  Frequency (times)  Monetary (c.c. blood)  Time (months)  \\\n",
       "0                 2                 50                  12500             98   \n",
       "1                 0                 13                   3250             28   \n",
       "2                 1                 16                   4000             35   \n",
       "3                 2                 20                   5000             45   \n",
       "4                 1                 24                   6000             77   \n",
       "\n",
       "   whether he/she donated blood in March 2007  \n",
       "0                                           1  \n",
       "1                                           1  \n",
       "2                                           1  \n",
       "3                                           1  \n",
       "4                                           0  "
      ]
     },
     "execution_count": 4,
     "metadata": {},
     "output_type": "execute_result"
    }
   ],
   "source": [
    "df = pd.read_csv(\"transfusion.csv\")\n",
    "df.head()"
   ]
  },
  {
   "cell_type": "markdown",
   "id": "d07023f4",
   "metadata": {},
   "source": [
    "## Inspecting transfusion DataFrame"
   ]
  },
  {
   "cell_type": "markdown",
   "id": "b136d339",
   "metadata": {},
   "source": [
    "Let's briefly return to our discussion of RFM model. RFM stands for Recency, Frequency and Monetary Value and it is commonly used in marketing for identifying your best customers. In our case, our customers are blood donors.\n",
    "\n",
    "RFMTC is a variation of the RFM model. Below is a description of what each column means in our dataset:\n",
    "- R (Recency - months since the last donation)\n",
    "- F (Frequency - total number of donation)\n",
    "- M (Monetary - total blood donated in c.c.)\n",
    "- T (Time - months since the first donation)\n",
    "a binary variable representing whether he/she donated blood in March 2007 (1 stands for donating blood; 0 stands for not donating blood)\n",
    "\n",
    "It looks like every column in our DataFrame has the numeric type, which is exactly what we want when building a machine learning model. Let's verify our hypothesis."
   ]
  },
  {
   "cell_type": "code",
   "execution_count": 5,
   "id": "f3665830",
   "metadata": {},
   "outputs": [
    {
     "name": "stdout",
     "output_type": "stream",
     "text": [
      "<class 'pandas.core.frame.DataFrame'>\n",
      "RangeIndex: 748 entries, 0 to 747\n",
      "Data columns (total 5 columns):\n",
      " #   Column                                      Non-Null Count  Dtype\n",
      "---  ------                                      --------------  -----\n",
      " 0   Recency (months)                            748 non-null    int64\n",
      " 1   Frequency (times)                           748 non-null    int64\n",
      " 2   Monetary (c.c. blood)                       748 non-null    int64\n",
      " 3   Time (months)                               748 non-null    int64\n",
      " 4   whether he/she donated blood in March 2007  748 non-null    int64\n",
      "dtypes: int64(5)\n",
      "memory usage: 29.3 KB\n"
     ]
    }
   ],
   "source": [
    "# concise summary of transfusion DataFrame\n",
    "df.info()"
   ]
  },
  {
   "cell_type": "code",
   "execution_count": 6,
   "id": "3fe03d56",
   "metadata": {},
   "outputs": [
    {
     "name": "stdout",
     "output_type": "stream",
     "text": [
      "Rows :  748 \n",
      "\n",
      "Columns :  5\n"
     ]
    }
   ],
   "source": [
    "print(\"Rows : \", df.shape[0],\"\\n\")\n",
    "print(\"Columns : \", df.shape[1])"
   ]
  },
  {
   "cell_type": "code",
   "execution_count": 7,
   "id": "bbd7b22f",
   "metadata": {},
   "outputs": [
    {
     "data": {
      "text/html": [
       "<div>\n",
       "<style scoped>\n",
       "    .dataframe tbody tr th:only-of-type {\n",
       "        vertical-align: middle;\n",
       "    }\n",
       "\n",
       "    .dataframe tbody tr th {\n",
       "        vertical-align: top;\n",
       "    }\n",
       "\n",
       "    .dataframe thead th {\n",
       "        text-align: right;\n",
       "    }\n",
       "</style>\n",
       "<table border=\"1\" class=\"dataframe\">\n",
       "  <thead>\n",
       "    <tr style=\"text-align: right;\">\n",
       "      <th></th>\n",
       "      <th>Recency (months)</th>\n",
       "      <th>Frequency (times)</th>\n",
       "      <th>Monetary (c.c. blood)</th>\n",
       "      <th>Time (months)</th>\n",
       "      <th>whether he/she donated blood in March 2007</th>\n",
       "    </tr>\n",
       "  </thead>\n",
       "  <tbody>\n",
       "    <tr>\n",
       "      <th>count</th>\n",
       "      <td>748.000000</td>\n",
       "      <td>748.000000</td>\n",
       "      <td>748.000000</td>\n",
       "      <td>748.000000</td>\n",
       "      <td>748.000000</td>\n",
       "    </tr>\n",
       "    <tr>\n",
       "      <th>mean</th>\n",
       "      <td>9.506684</td>\n",
       "      <td>5.514706</td>\n",
       "      <td>1378.676471</td>\n",
       "      <td>34.282086</td>\n",
       "      <td>0.237968</td>\n",
       "    </tr>\n",
       "    <tr>\n",
       "      <th>std</th>\n",
       "      <td>8.095396</td>\n",
       "      <td>5.839307</td>\n",
       "      <td>1459.826781</td>\n",
       "      <td>24.376714</td>\n",
       "      <td>0.426124</td>\n",
       "    </tr>\n",
       "    <tr>\n",
       "      <th>min</th>\n",
       "      <td>0.000000</td>\n",
       "      <td>1.000000</td>\n",
       "      <td>250.000000</td>\n",
       "      <td>2.000000</td>\n",
       "      <td>0.000000</td>\n",
       "    </tr>\n",
       "    <tr>\n",
       "      <th>25%</th>\n",
       "      <td>2.750000</td>\n",
       "      <td>2.000000</td>\n",
       "      <td>500.000000</td>\n",
       "      <td>16.000000</td>\n",
       "      <td>0.000000</td>\n",
       "    </tr>\n",
       "    <tr>\n",
       "      <th>50%</th>\n",
       "      <td>7.000000</td>\n",
       "      <td>4.000000</td>\n",
       "      <td>1000.000000</td>\n",
       "      <td>28.000000</td>\n",
       "      <td>0.000000</td>\n",
       "    </tr>\n",
       "    <tr>\n",
       "      <th>75%</th>\n",
       "      <td>14.000000</td>\n",
       "      <td>7.000000</td>\n",
       "      <td>1750.000000</td>\n",
       "      <td>50.000000</td>\n",
       "      <td>0.000000</td>\n",
       "    </tr>\n",
       "    <tr>\n",
       "      <th>max</th>\n",
       "      <td>74.000000</td>\n",
       "      <td>50.000000</td>\n",
       "      <td>12500.000000</td>\n",
       "      <td>98.000000</td>\n",
       "      <td>1.000000</td>\n",
       "    </tr>\n",
       "  </tbody>\n",
       "</table>\n",
       "</div>"
      ],
      "text/plain": [
       "       Recency (months)  Frequency (times)  Monetary (c.c. blood)  \\\n",
       "count        748.000000         748.000000             748.000000   \n",
       "mean           9.506684           5.514706            1378.676471   \n",
       "std            8.095396           5.839307            1459.826781   \n",
       "min            0.000000           1.000000             250.000000   \n",
       "25%            2.750000           2.000000             500.000000   \n",
       "50%            7.000000           4.000000            1000.000000   \n",
       "75%           14.000000           7.000000            1750.000000   \n",
       "max           74.000000          50.000000           12500.000000   \n",
       "\n",
       "       Time (months)  whether he/she donated blood in March 2007  \n",
       "count     748.000000                                  748.000000  \n",
       "mean       34.282086                                    0.237968  \n",
       "std        24.376714                                    0.426124  \n",
       "min         2.000000                                    0.000000  \n",
       "25%        16.000000                                    0.000000  \n",
       "50%        28.000000                                    0.000000  \n",
       "75%        50.000000                                    0.000000  \n",
       "max        98.000000                                    1.000000  "
      ]
     },
     "execution_count": 7,
     "metadata": {},
     "output_type": "execute_result"
    }
   ],
   "source": [
    "df.describe()"
   ]
  },
  {
   "cell_type": "markdown",
   "id": "8d77e155",
   "metadata": {},
   "source": [
    "### Creating target column"
   ]
  },
  {
   "cell_type": "code",
   "execution_count": 8,
   "id": "909bc353",
   "metadata": {},
   "outputs": [
    {
     "data": {
      "text/html": [
       "<div>\n",
       "<style scoped>\n",
       "    .dataframe tbody tr th:only-of-type {\n",
       "        vertical-align: middle;\n",
       "    }\n",
       "\n",
       "    .dataframe tbody tr th {\n",
       "        vertical-align: top;\n",
       "    }\n",
       "\n",
       "    .dataframe thead th {\n",
       "        text-align: right;\n",
       "    }\n",
       "</style>\n",
       "<table border=\"1\" class=\"dataframe\">\n",
       "  <thead>\n",
       "    <tr style=\"text-align: right;\">\n",
       "      <th></th>\n",
       "      <th>Recency (months)</th>\n",
       "      <th>Frequency (times)</th>\n",
       "      <th>Monetary (c.c. blood)</th>\n",
       "      <th>Time (months)</th>\n",
       "      <th>target</th>\n",
       "    </tr>\n",
       "  </thead>\n",
       "  <tbody>\n",
       "    <tr>\n",
       "      <th>0</th>\n",
       "      <td>2</td>\n",
       "      <td>50</td>\n",
       "      <td>12500</td>\n",
       "      <td>98</td>\n",
       "      <td>1</td>\n",
       "    </tr>\n",
       "    <tr>\n",
       "      <th>1</th>\n",
       "      <td>0</td>\n",
       "      <td>13</td>\n",
       "      <td>3250</td>\n",
       "      <td>28</td>\n",
       "      <td>1</td>\n",
       "    </tr>\n",
       "    <tr>\n",
       "      <th>2</th>\n",
       "      <td>1</td>\n",
       "      <td>16</td>\n",
       "      <td>4000</td>\n",
       "      <td>35</td>\n",
       "      <td>1</td>\n",
       "    </tr>\n",
       "    <tr>\n",
       "      <th>3</th>\n",
       "      <td>2</td>\n",
       "      <td>20</td>\n",
       "      <td>5000</td>\n",
       "      <td>45</td>\n",
       "      <td>1</td>\n",
       "    </tr>\n",
       "    <tr>\n",
       "      <th>4</th>\n",
       "      <td>1</td>\n",
       "      <td>24</td>\n",
       "      <td>6000</td>\n",
       "      <td>77</td>\n",
       "      <td>0</td>\n",
       "    </tr>\n",
       "  </tbody>\n",
       "</table>\n",
       "</div>"
      ],
      "text/plain": [
       "   Recency (months)  Frequency (times)  Monetary (c.c. blood)  Time (months)  \\\n",
       "0                 2                 50                  12500             98   \n",
       "1                 0                 13                   3250             28   \n",
       "2                 1                 16                   4000             35   \n",
       "3                 2                 20                   5000             45   \n",
       "4                 1                 24                   6000             77   \n",
       "\n",
       "   target  \n",
       "0       1  \n",
       "1       1  \n",
       "2       1  \n",
       "3       1  \n",
       "4       0  "
      ]
     },
     "execution_count": 8,
     "metadata": {},
     "output_type": "execute_result"
    }
   ],
   "source": [
    "# Rename columns 'whether he/she donated blood in March 2007\n",
    "# as'target' column \n",
    "\n",
    "df.rename(columns={'whether he/she donated blood in March 2007': 'target'},inplace=True)\n",
    "\n",
    "df.head()"
   ]
  },
  {
   "cell_type": "markdown",
   "id": "9381fee2",
   "metadata": {},
   "source": [
    "### Check for Data Imbalance"
   ]
  },
  {
   "cell_type": "code",
   "execution_count": 9,
   "id": "90a34bf2",
   "metadata": {},
   "outputs": [
    {
     "data": {
      "image/png": "[encoded data removed]",
      "text/plain": [
       "<Figure size 432x288 with 1 Axes>"
      ]
     },
     "metadata": {},
     "output_type": "display_data"
    }
   ],
   "source": [
    "explode = [0,0.3] # To slice the perticuler section\n",
    "textprops = {\"fontsize\":16} # Font size of text in pie chart\n",
    "\n",
    "plt.title(\"Donation Pie Chart\\n\",{\"fontsize\":20})\n",
    "\n",
    "df.target.value_counts(normalize=True).plot.pie(autopct = \"%0.2f%%\",explode = explode,textprops=textprops, shadow = True,radius = 1.2)\n",
    "\n",
    " \n",
    "plt.show() # To show pie chart only"
   ]
  },
  {
   "cell_type": "markdown",
   "id": "68ea02dd",
   "metadata": {},
   "source": [
    "Observations :\n",
    "\n",
    "- The number of negative responses is much higher than the number of positive responses.\n",
    "- Imbalance Dataset"
   ]
  },
  {
   "cell_type": "markdown",
   "id": "265de8d3",
   "metadata": {},
   "source": [
    "## Data Exploration"
   ]
  },
  {
   "cell_type": "code",
   "execution_count": 10,
   "id": "5ba5d161",
   "metadata": {},
   "outputs": [
    {
     "data": {
      "text/html": [
       "<div>\n",
       "<style scoped>\n",
       "    .dataframe tbody tr th:only-of-type {\n",
       "        vertical-align: middle;\n",
       "    }\n",
       "\n",
       "    .dataframe tbody tr th {\n",
       "        vertical-align: top;\n",
       "    }\n",
       "\n",
       "    .dataframe thead th {\n",
       "        text-align: right;\n",
       "    }\n",
       "</style>\n",
       "<table border=\"1\" class=\"dataframe\">\n",
       "  <thead>\n",
       "    <tr style=\"text-align: right;\">\n",
       "      <th></th>\n",
       "      <th>Recency (months)</th>\n",
       "      <th>Frequency (times)</th>\n",
       "      <th>Monetary (c.c. blood)</th>\n",
       "      <th>Time (months)</th>\n",
       "      <th>target</th>\n",
       "    </tr>\n",
       "  </thead>\n",
       "  <tbody>\n",
       "    <tr>\n",
       "      <th>Recency (months)</th>\n",
       "      <td>1.000000</td>\n",
       "      <td>-0.182745</td>\n",
       "      <td>-0.182745</td>\n",
       "      <td>0.160618</td>\n",
       "      <td>-0.279869</td>\n",
       "    </tr>\n",
       "    <tr>\n",
       "      <th>Frequency (times)</th>\n",
       "      <td>-0.182745</td>\n",
       "      <td>1.000000</td>\n",
       "      <td>1.000000</td>\n",
       "      <td>0.634940</td>\n",
       "      <td>0.218633</td>\n",
       "    </tr>\n",
       "    <tr>\n",
       "      <th>Monetary (c.c. blood)</th>\n",
       "      <td>-0.182745</td>\n",
       "      <td>1.000000</td>\n",
       "      <td>1.000000</td>\n",
       "      <td>0.634940</td>\n",
       "      <td>0.218633</td>\n",
       "    </tr>\n",
       "    <tr>\n",
       "      <th>Time (months)</th>\n",
       "      <td>0.160618</td>\n",
       "      <td>0.634940</td>\n",
       "      <td>0.634940</td>\n",
       "      <td>1.000000</td>\n",
       "      <td>-0.035854</td>\n",
       "    </tr>\n",
       "    <tr>\n",
       "      <th>target</th>\n",
       "      <td>-0.279869</td>\n",
       "      <td>0.218633</td>\n",
       "      <td>0.218633</td>\n",
       "      <td>-0.035854</td>\n",
       "      <td>1.000000</td>\n",
       "    </tr>\n",
       "  </tbody>\n",
       "</table>\n",
       "</div>"
      ],
      "text/plain": [
       "                       Recency (months)  Frequency (times)  \\\n",
       "Recency (months)               1.000000          -0.182745   \n",
       "Frequency (times)             -0.182745           1.000000   \n",
       "Monetary (c.c. blood)         -0.182745           1.000000   \n",
       "Time (months)                  0.160618           0.634940   \n",
       "target                        -0.279869           0.218633   \n",
       "\n",
       "                       Monetary (c.c. blood)  Time (months)    target  \n",
       "Recency (months)                   -0.182745       0.160618 -0.279869  \n",
       "Frequency (times)                   1.000000       0.634940  0.218633  \n",
       "Monetary (c.c. blood)               1.000000       0.634940  0.218633  \n",
       "Time (months)                       0.634940       1.000000 -0.035854  \n",
       "target                              0.218633      -0.035854  1.000000  "
      ]
     },
     "execution_count": 10,
     "metadata": {},
     "output_type": "execute_result"
    }
   ],
   "source": [
    "res = df[[\"Recency (months)\",\"Frequency (times)\",\"Monetary (c.c. blood)\",\"Time (months)\",\"target\"]].corr(method = 'pearson')\n",
    "res"
   ]
  },
  {
   "cell_type": "code",
   "execution_count": 11,
   "id": "ff8fead6",
   "metadata": {},
   "outputs": [
    {
     "data": {
      "image/png": "[encoded data removed]",
      "text/plain": [
       "<Figure size 432x288 with 2 Axes>"
      ]
     },
     "metadata": {
      "needs_background": "light"
     },
     "output_type": "display_data"
    }
   ],
   "source": [
    "plt.title(\"Donation Correlations\\n\",{\"fontsize\":20})\n",
    "sns.heatmap(res, annot=True)\n",
    "plt.show()"
   ]
  },
  {
   "cell_type": "markdown",
   "id": "e9e14f4e",
   "metadata": {},
   "source": [
    "Observations :\n",
    "\n",
    "- Positive Correlation -- Increase in one feature will increase other feature.\n",
    "- Negative Correlation -- Increase in one feature will decrease the other feature\n",
    "- We focus on which features have strong positive or negative correlation with Target Column"
   ]
  },
  {
   "cell_type": "code",
   "execution_count": 12,
   "id": "c857b2f4",
   "metadata": {},
   "outputs": [
    {
     "data": {
      "image/png": "[encoded data removed]",
      "text/plain": [
       "<Figure size 402.375x360 with 1 Axes>"
      ]
     },
     "metadata": {
      "needs_background": "light"
     },
     "output_type": "display_data"
    }
   ],
   "source": [
    "sns.lmplot(data=df,x='Frequency (times)',y='Monetary (c.c. blood)',hue='target')\n",
    "plt.title(\"Correlation between frequency and monetary\")\n",
    "\n",
    "plt.show()"
   ]
  },
  {
   "cell_type": "markdown",
   "id": "1a935e8b",
   "metadata": {},
   "source": [
    "Frequency and monetary values are highly correlated."
   ]
  },
  {
   "cell_type": "markdown",
   "id": "850be0d9",
   "metadata": {},
   "source": [
    "### Handling Outliers"
   ]
  },
  {
   "cell_type": "code",
   "execution_count": 13,
   "id": "c631df95",
   "metadata": {},
   "outputs": [
    {
     "data": {
      "text/plain": [
       "count    748.000000\n",
       "mean       9.506684\n",
       "std        8.095396\n",
       "min        0.000000\n",
       "25%        2.750000\n",
       "50%        7.000000\n",
       "75%       14.000000\n",
       "max       74.000000\n",
       "Name: Recency (months), dtype: float64"
      ]
     },
     "execution_count": 13,
     "metadata": {},
     "output_type": "execute_result"
    }
   ],
   "source": [
    "df[\"Recency (months)\"].describe()"
   ]
  },
  {
   "cell_type": "code",
   "execution_count": 14,
   "id": "0d361599",
   "metadata": {},
   "outputs": [
    {
     "data": {
      "image/png": "[encoded data removed]",
      "text/plain": [
       "<Figure size 360x360 with 1 Axes>"
      ]
     },
     "metadata": {
      "needs_background": "light"
     },
     "output_type": "display_data"
    }
   ],
   "source": [
    "# checking outlier for 'Months Since Last Donation'\n",
    "plt.figure(figsize=[5,5])\n",
    "sns.boxplot(data=df,y=\"Recency (months)\")\n",
    "plt.show()"
   ]
  },
  {
   "cell_type": "code",
   "execution_count": 15,
   "id": "0813d55b",
   "metadata": {},
   "outputs": [
    {
     "data": {
      "text/plain": [
       "0.50     7.00\n",
       "0.70    14.00\n",
       "0.90    21.00\n",
       "0.95    23.00\n",
       "0.99    25.53\n",
       "Name: Recency (months), dtype: float64"
      ]
     },
     "execution_count": 15,
     "metadata": {},
     "output_type": "execute_result"
    }
   ],
   "source": [
    "df[\"Recency (months)\"].quantile([0.5,0.7,0.9,0.95,0.99])"
   ]
  },
  {
   "cell_type": "code",
   "execution_count": 16,
   "id": "1b9dd33b",
   "metadata": {},
   "outputs": [],
   "source": [
    "# Boxplot is showing the outliers for recency, there are few entries having very large Recency than others.\n",
    "# Considering this entries will mislead the further analysis.\n",
    "\n",
    "# Excluding values outside 99 percentile for Recency\n",
    "\n",
    "df = df[df['Recency (months)'] < np.nanpercentile(df['Recency (months)'], 99)]"
   ]
  },
  {
   "cell_type": "code",
   "execution_count": 17,
   "id": "42136d93",
   "metadata": {},
   "outputs": [
    {
     "data": {
      "image/png": "[encoded data removed]",
      "text/plain": [
       "<Figure size 360x360 with 1 Axes>"
      ]
     },
     "metadata": {
      "needs_background": "light"
     },
     "output_type": "display_data"
    }
   ],
   "source": [
    "# checking outlier for 'Months Since Last Donation'\n",
    "plt.figure(figsize=[5,5])\n",
    "sns.boxplot(data=df,y=\"Recency (months)\")\n",
    "plt.show()"
   ]
  },
  {
   "cell_type": "markdown",
   "id": "0963f1a2",
   "metadata": {},
   "source": [
    "Months since Last Donation - happened between 5th and 10th month"
   ]
  },
  {
   "cell_type": "code",
   "execution_count": 18,
   "id": "d116c26e",
   "metadata": {},
   "outputs": [
    {
     "data": {
      "text/plain": [
       "count    740.000000\n",
       "mean       5.555405\n",
       "std        5.855815\n",
       "min        1.000000\n",
       "25%        2.000000\n",
       "50%        4.000000\n",
       "75%        7.000000\n",
       "max       50.000000\n",
       "Name: Frequency (times), dtype: float64"
      ]
     },
     "execution_count": 18,
     "metadata": {},
     "output_type": "execute_result"
    }
   ],
   "source": [
    "df[\"Frequency (times)\"].describe()"
   ]
  },
  {
   "cell_type": "code",
   "execution_count": 19,
   "id": "d8006626",
   "metadata": {},
   "outputs": [
    {
     "data": {
      "image/png": "[encoded data removed]",
      "text/plain": [
       "<Figure size 360x360 with 1 Axes>"
      ]
     },
     "metadata": {
      "needs_background": "light"
     },
     "output_type": "display_data"
    }
   ],
   "source": [
    "# checking outlier for 'total number of donation'\n",
    "plt.figure(figsize=[5,5])\n",
    "sns.boxplot(data=df,y=\"Frequency (times)\")\n",
    "plt.show()"
   ]
  },
  {
   "cell_type": "code",
   "execution_count": 20,
   "id": "966efc8d",
   "metadata": {},
   "outputs": [
    {
     "data": {
      "text/plain": [
       "0.50     4.00\n",
       "0.70     6.00\n",
       "0.90    12.00\n",
       "0.95    16.00\n",
       "0.99    30.27\n",
       "Name: Frequency (times), dtype: float64"
      ]
     },
     "execution_count": 20,
     "metadata": {},
     "output_type": "execute_result"
    }
   ],
   "source": [
    "df[\"Frequency (times)\"].quantile([0.5,0.7,0.9,0.95,0.99])"
   ]
  },
  {
   "cell_type": "code",
   "execution_count": 21,
   "id": "1c4dc08a",
   "metadata": {},
   "outputs": [],
   "source": [
    "# Boxplot is showing the outliers for frequency, there are few entries having very large Frequency than others.\n",
    "# Considering this entries will mislead the further analysis.\n",
    "\n",
    "# Excluding values outside 99 percentile for Frequency\n",
    "\n",
    "df = df[df['Frequency (times)'] < np.nanpercentile(df['Frequency (times)'], 99)]"
   ]
  },
  {
   "cell_type": "code",
   "execution_count": 22,
   "id": "1ab3d713",
   "metadata": {},
   "outputs": [
    {
     "data": {
      "image/png": "[encoded data removed]",
      "text/plain": [
       "<Figure size 360x360 with 1 Axes>"
      ]
     },
     "metadata": {
      "needs_background": "light"
     },
     "output_type": "display_data"
    }
   ],
   "source": [
    "# checking outlier for 'total number of donation'\n",
    "plt.figure(figsize=[5,5])\n",
    "sns.boxplot(data=df,y=\"Frequency (times)\")\n",
    "plt.show()"
   ]
  },
  {
   "cell_type": "markdown",
   "id": "a72af7c1",
   "metadata": {},
   "source": [
    "Total Number of Donations - approx. 5 times"
   ]
  },
  {
   "cell_type": "code",
   "execution_count": 23,
   "id": "a3afc64e",
   "metadata": {},
   "outputs": [
    {
     "data": {
      "text/plain": [
       "count     732.000000\n",
       "mean     1291.666667\n",
       "std      1127.464115\n",
       "min       250.000000\n",
       "25%       500.000000\n",
       "50%      1000.000000\n",
       "75%      1750.000000\n",
       "max      6500.000000\n",
       "Name: Monetary (c.c. blood), dtype: float64"
      ]
     },
     "execution_count": 23,
     "metadata": {},
     "output_type": "execute_result"
    }
   ],
   "source": [
    "df[\"Monetary (c.c. blood)\"].describe()"
   ]
  },
  {
   "cell_type": "code",
   "execution_count": 24,
   "id": "0b3dcad4",
   "metadata": {},
   "outputs": [
    {
     "data": {
      "image/png": "[encoded data removed]",
      "text/plain": [
       "<Figure size 360x360 with 1 Axes>"
      ]
     },
     "metadata": {
      "needs_background": "light"
     },
     "output_type": "display_data"
    }
   ],
   "source": [
    "# checking outlier for 'total blood donated in c.c'\n",
    "plt.figure(figsize=[5,5])\n",
    "sns.boxplot(data=df,y=\"Monetary (c.c. blood)\")\n",
    "plt.show()"
   ]
  },
  {
   "cell_type": "code",
   "execution_count": 25,
   "id": "282d52b1",
   "metadata": {},
   "outputs": [
    {
     "data": {
      "text/plain": [
       "0.50    1000.0\n",
       "0.70    1500.0\n",
       "0.90    2750.0\n",
       "0.95    3612.5\n",
       "0.99    5250.0\n",
       "Name: Monetary (c.c. blood), dtype: float64"
      ]
     },
     "execution_count": 25,
     "metadata": {},
     "output_type": "execute_result"
    }
   ],
   "source": [
    "df[\"Monetary (c.c. blood)\"].quantile([0.5,0.7,0.9,0.95,0.99])"
   ]
  },
  {
   "cell_type": "code",
   "execution_count": 26,
   "id": "e2e45d38",
   "metadata": {},
   "outputs": [
    {
     "data": {
      "text/plain": [
       "count    732.000000\n",
       "mean      33.439891\n",
       "std       23.692177\n",
       "min        2.000000\n",
       "25%       16.000000\n",
       "50%       28.000000\n",
       "75%       48.000000\n",
       "max       98.000000\n",
       "Name: Time (months), dtype: float64"
      ]
     },
     "execution_count": 26,
     "metadata": {},
     "output_type": "execute_result"
    }
   ],
   "source": [
    "# months since the first donation\n",
    "df[\"Time (months)\"].describe()"
   ]
  },
  {
   "cell_type": "code",
   "execution_count": 27,
   "id": "58145b71",
   "metadata": {},
   "outputs": [
    {
     "data": {
      "image/png": "[encoded data removed]",
      "text/plain": [
       "<Figure size 360x360 with 1 Axes>"
      ]
     },
     "metadata": {
      "needs_background": "light"
     },
     "output_type": "display_data"
    }
   ],
   "source": [
    "# checking outlier for 'months since the first donation'\n",
    "plt.figure(figsize=[5,5])\n",
    "sns.boxplot(data=df,y=\"Time (months)\")\n",
    "plt.show()"
   ]
  },
  {
   "cell_type": "code",
   "execution_count": 28,
   "id": "55c448b3",
   "metadata": {},
   "outputs": [
    {
     "data": {
      "text/plain": [
       "0.50    28.00\n",
       "0.70    41.70\n",
       "0.90    71.00\n",
       "0.95    79.00\n",
       "0.99    94.38\n",
       "Name: Time (months), dtype: float64"
      ]
     },
     "execution_count": 28,
     "metadata": {},
     "output_type": "execute_result"
    }
   ],
   "source": [
    "df[\"Time (months)\"].quantile([0.5,0.7,0.9,0.95,0.99])"
   ]
  },
  {
   "cell_type": "markdown",
   "id": "c51e52a9",
   "metadata": {},
   "source": [
    "### Distribution"
   ]
  },
  {
   "cell_type": "code",
   "execution_count": 29,
   "id": "5b08794b",
   "metadata": {},
   "outputs": [
    {
     "data": {
      "text/plain": [
       "<Figure size 576x432 with 0 Axes>"
      ]
     },
     "metadata": {},
     "output_type": "display_data"
    },
    {
     "data": {
      "image/png": "[encoded data removed]",
      "text/plain": [
       "<Figure size 432x216 with 2 Axes>"
      ]
     },
     "metadata": {
      "needs_background": "light"
     },
     "output_type": "display_data"
    }
   ],
   "source": [
    "#F (Frequency - total number of donation)\n",
    "\n",
    "fig = plt.figure(figsize=(8,6))\n",
    "g = sns.FacetGrid(df, col='target')\n",
    "g.map(sns.distplot, \"Frequency (times)\")\n",
    "plt.show()"
   ]
  },
  {
   "cell_type": "markdown",
   "id": "69223834",
   "metadata": {},
   "source": [
    "Total number of donation -\n",
    "\n",
    "- distributions are not the same\n",
    "- peak corresponding to the people who have donated only 0-1 time will not donate blood and who have donated 2-3 will likely donate.\n",
    "- It seems that people have donated more number of times are more likely to donate blood.\n"
   ]
  },
  {
   "cell_type": "code",
   "execution_count": 30,
   "id": "4d09dcb8",
   "metadata": {},
   "outputs": [
    {
     "data": {
      "text/plain": [
       "<Figure size 576x432 with 0 Axes>"
      ]
     },
     "metadata": {},
     "output_type": "display_data"
    },
    {
     "data": {
      "image/png": "[encoded data removed]",
      "text/plain": [
       "<Figure size 432x216 with 2 Axes>"
      ]
     },
     "metadata": {
      "needs_background": "light"
     },
     "output_type": "display_data"
    }
   ],
   "source": [
    "# R (Recency - months since the last donation)\n",
    "\n",
    "fig = plt.figure(figsize=(8,6))\n",
    "g = sns.FacetGrid(df, col='target')\n",
    "g.map(sns.distplot, \"Recency (months)\")\n",
    "plt.show()"
   ]
  },
  {
   "cell_type": "markdown",
   "id": "9d7725ec",
   "metadata": {},
   "source": [
    "Months since the last donation\n",
    "\n",
    "- distributions are not the same.\n",
    "- peak corresponding to the people who have donated recently(in 1-2 months) will donate blood.\n",
    "- It seems that people have donated recently are more likely to donate blood."
   ]
  },
  {
   "cell_type": "code",
   "execution_count": 31,
   "id": "f3cd8007",
   "metadata": {},
   "outputs": [
    {
     "data": {
      "text/plain": [
       "<Figure size 576x432 with 0 Axes>"
      ]
     },
     "metadata": {},
     "output_type": "display_data"
    },
    {
     "data": {
      "image/png": "[encoded data removed]",
      "text/plain": [
       "<Figure size 432x216 with 2 Axes>"
      ]
     },
     "metadata": {
      "needs_background": "light"
     },
     "output_type": "display_data"
    }
   ],
   "source": [
    "# T (Time - months since the first donation)\n",
    "\n",
    "fig = plt.figure(figsize=(8,6))\n",
    "g = sns.FacetGrid(df, col='target')\n",
    "g.map(sns.distplot, \"Time (months)\")\n",
    "plt.show()"
   ]
  },
  {
   "cell_type": "markdown",
   "id": "82faf500",
   "metadata": {},
   "source": [
    "Months since the first donation\n",
    "\n",
    "- distributions are not the same\n",
    "- peak corresponding to the people who have just donated recently(in 5-25 months) will not donate blood."
   ]
  },
  {
   "cell_type": "code",
   "execution_count": 32,
   "id": "e7c11596",
   "metadata": {},
   "outputs": [
    {
     "data": {
      "text/plain": [
       "<Figure size 576x432 with 0 Axes>"
      ]
     },
     "metadata": {},
     "output_type": "display_data"
    },
    {
     "data": {
      "image/png": "[encoded data removed]",
      "text/plain": [
       "<Figure size 432x216 with 2 Axes>"
      ]
     },
     "metadata": {
      "needs_background": "light"
     },
     "output_type": "display_data"
    }
   ],
   "source": [
    "# M (Monetary - total blood donated in c.c.)\n",
    "\n",
    "fig = plt.figure(figsize=(8,6))\n",
    "g = sns.FacetGrid(df, col='target')\n",
    "g.map(sns.distplot, \"Monetary (c.c. blood)\")\n",
    "plt.show()"
   ]
  },
  {
   "cell_type": "markdown",
   "id": "ff463595",
   "metadata": {},
   "source": [
    "Volume Donated\n",
    "\n",
    "- Can observe as Volume of donation i.e. cc increasing, chances of donating again slightly increase"
   ]
  },
  {
   "cell_type": "code",
   "execution_count": 33,
   "id": "e93ac63b",
   "metadata": {},
   "outputs": [
    {
     "data": {
      "text/html": [
       "<div>\n",
       "<style scoped>\n",
       "    .dataframe tbody tr th:only-of-type {\n",
       "        vertical-align: middle;\n",
       "    }\n",
       "\n",
       "    .dataframe tbody tr th {\n",
       "        vertical-align: top;\n",
       "    }\n",
       "\n",
       "    .dataframe thead th {\n",
       "        text-align: right;\n",
       "    }\n",
       "</style>\n",
       "<table border=\"1\" class=\"dataframe\">\n",
       "  <thead>\n",
       "    <tr style=\"text-align: right;\">\n",
       "      <th></th>\n",
       "      <th>Recency (months)</th>\n",
       "      <th>Frequency (times)</th>\n",
       "      <th>Monetary (c.c. blood)</th>\n",
       "      <th>Time (months)</th>\n",
       "    </tr>\n",
       "  </thead>\n",
       "  <tbody>\n",
       "    <tr>\n",
       "      <th>1</th>\n",
       "      <td>0</td>\n",
       "      <td>13</td>\n",
       "      <td>3250</td>\n",
       "      <td>28</td>\n",
       "    </tr>\n",
       "    <tr>\n",
       "      <th>2</th>\n",
       "      <td>1</td>\n",
       "      <td>16</td>\n",
       "      <td>4000</td>\n",
       "      <td>35</td>\n",
       "    </tr>\n",
       "  </tbody>\n",
       "</table>\n",
       "</div>"
      ],
      "text/plain": [
       "   Recency (months)  Frequency (times)  Monetary (c.c. blood)  Time (months)\n",
       "1                 0                 13                   3250             28\n",
       "2                 1                 16                   4000             35"
      ]
     },
     "execution_count": 33,
     "metadata": {},
     "output_type": "execute_result"
    }
   ],
   "source": [
    "X_Data = df.drop(columns='target')\n",
    "X_Data.head(2)"
   ]
  },
  {
   "cell_type": "code",
   "execution_count": 34,
   "id": "441c350c",
   "metadata": {},
   "outputs": [
    {
     "data": {
      "text/plain": [
       "1    1\n",
       "2    1\n",
       "Name: target, dtype: int64"
      ]
     },
     "execution_count": 34,
     "metadata": {},
     "output_type": "execute_result"
    }
   ],
   "source": [
    "Y_Data = df.target\n",
    "Y_Data.head(2)"
   ]
  },
  {
   "cell_type": "markdown",
   "id": "6f240c59",
   "metadata": {},
   "source": [
    "### Splitting dataframe into train and test datasets"
   ]
  },
  {
   "cell_type": "code",
   "execution_count": 35,
   "id": "6c318c48",
   "metadata": {},
   "outputs": [
    {
     "data": {
      "text/html": [
       "<div>\n",
       "<style scoped>\n",
       "    .dataframe tbody tr th:only-of-type {\n",
       "        vertical-align: middle;\n",
       "    }\n",
       "\n",
       "    .dataframe tbody tr th {\n",
       "        vertical-align: top;\n",
       "    }\n",
       "\n",
       "    .dataframe thead th {\n",
       "        text-align: right;\n",
       "    }\n",
       "</style>\n",
       "<table border=\"1\" class=\"dataframe\">\n",
       "  <thead>\n",
       "    <tr style=\"text-align: right;\">\n",
       "      <th></th>\n",
       "      <th>Recency (months)</th>\n",
       "      <th>Frequency (times)</th>\n",
       "      <th>Monetary (c.c. blood)</th>\n",
       "      <th>Time (months)</th>\n",
       "    </tr>\n",
       "  </thead>\n",
       "  <tbody>\n",
       "    <tr>\n",
       "      <th>729</th>\n",
       "      <td>23</td>\n",
       "      <td>3</td>\n",
       "      <td>750</td>\n",
       "      <td>39</td>\n",
       "    </tr>\n",
       "    <tr>\n",
       "      <th>584</th>\n",
       "      <td>2</td>\n",
       "      <td>1</td>\n",
       "      <td>250</td>\n",
       "      <td>2</td>\n",
       "    </tr>\n",
       "    <tr>\n",
       "      <th>369</th>\n",
       "      <td>16</td>\n",
       "      <td>5</td>\n",
       "      <td>1250</td>\n",
       "      <td>40</td>\n",
       "    </tr>\n",
       "    <tr>\n",
       "      <th>461</th>\n",
       "      <td>21</td>\n",
       "      <td>1</td>\n",
       "      <td>250</td>\n",
       "      <td>21</td>\n",
       "    </tr>\n",
       "    <tr>\n",
       "      <th>258</th>\n",
       "      <td>4</td>\n",
       "      <td>3</td>\n",
       "      <td>750</td>\n",
       "      <td>28</td>\n",
       "    </tr>\n",
       "  </tbody>\n",
       "</table>\n",
       "</div>"
      ],
      "text/plain": [
       "     Recency (months)  Frequency (times)  Monetary (c.c. blood)  Time (months)\n",
       "729                23                  3                    750             39\n",
       "584                 2                  1                    250              2\n",
       "369                16                  5                   1250             40\n",
       "461                21                  1                    250             21\n",
       "258                 4                  3                    750             28"
      ]
     },
     "execution_count": 35,
     "metadata": {},
     "output_type": "execute_result"
    }
   ],
   "source": [
    "# Split df DataFrame into\n",
    "# X_train, X_test, y_train and y_test datasets,\n",
    "# stratifying on the 'target' column\n",
    "# As We want to keep the same structure in train and test datasets, i.e., both datasets must have 0 target incidence of 76%\n",
    "\n",
    "from sklearn.model_selection import train_test_split\n",
    "X_train, X_test, y_train, y_test = train_test_split(X_Data,Y_Data,test_size=0.3,random_state=0,stratify=df.target)\n",
    "X_train.head()"
   ]
  },
  {
   "cell_type": "markdown",
   "id": "b334f1e7",
   "metadata": {},
   "source": [
    "### Selecting model using TPOT"
   ]
  },
  {
   "attachments": {
    "Tpot.jpg": {
     "image/jpeg": "[encoded data removed]"
    }
   },
   "cell_type": "markdown",
   "id": "bdbdffb2",
   "metadata": {},
   "source": [
    "![Tpot.jpg](attachment:Tpot.jpg)"
   ]
  },
  {
   "cell_type": "code",
   "execution_count": 36,
   "id": "d12bb71b",
   "metadata": {},
   "outputs": [
    {
     "data": {
      "application/vnd.jupyter.widget-view+json": {
       "model_id": "",
       "version_major": 2,
       "version_minor": 0
      },
      "text/plain": [
       "Optimization Progress:   0%|          | 0/120 [00:00<?, ?pipeline/s]"
      ]
     },
     "metadata": {},
     "output_type": "display_data"
    },
    {
     "name": "stdout",
     "output_type": "stream",
     "text": [
      "\n",
      "Generation 1 - Current best internal CV score: 0.7501994752785892\n",
      "\n",
      "Generation 2 - Current best internal CV score: 0.7501994752785892\n",
      "\n",
      "Generation 3 - Current best internal CV score: 0.7501994752785892\n",
      "\n",
      "Generation 4 - Current best internal CV score: 0.7501994752785892\n",
      "\n",
      "Generation 5 - Current best internal CV score: 0.7516559829059829\n",
      "\n",
      "Best pipeline: LogisticRegression(Normalizer(MaxAbsScaler(input_matrix), norm=l2), C=25.0, dual=False, penalty=l2)\n",
      "\n",
      "AUC score: 0.7290\n",
      "\n",
      "Best pipeline steps:\n",
      "1. MaxAbsScaler()\n",
      "2. Normalizer()\n",
      "3. LogisticRegression(C=25.0, random_state=42)\n"
     ]
    }
   ],
   "source": [
    "# Instantiate TPOTClassifier\n",
    "tpot = TPOTClassifier(\n",
    "    generations=5, #number of iterations to run ; pipeline optimisation process ; by default value is 100\n",
    "    population_size=20, #number of individuals to retrain in the genetic programing popluation in every generation, by default value is 100\n",
    "    verbosity=2, #it will state how much info TPOT will communicate while it is running\n",
    "    scoring='roc_auc', #use to evaluate the quality of given pipeline\n",
    "    random_state=42,\n",
    "    disable_update_check=True,\n",
    "    config_dict='TPOT light'\n",
    ")\n",
    "tpot.fit(X_train, y_train)\n",
    "\n",
    "# AUC score for tpot model\n",
    "tpot_auc_score = roc_auc_score(y_test, tpot.predict_proba(X_test)[:, 1])\n",
    "print(f'\\nAUC score: {tpot_auc_score:.4f}')\n",
    "\n",
    "# Print best pipeline steps\n",
    "print('\\nBest pipeline steps:', end='\\n')\n",
    "for idx, (name, transform) in enumerate(tpot.fitted_pipeline_.steps, start=1):\n",
    "    # Print idx and transform\n",
    "    print(f'{idx}. {transform}')"
   ]
  },
  {
   "cell_type": "code",
   "execution_count": 37,
   "id": "8f33fabf",
   "metadata": {},
   "outputs": [
    {
     "data": {
      "text/plain": [
       "Pipeline(steps=[('maxabsscaler', MaxAbsScaler()), ('normalizer', Normalizer()),\n",
       "                ('logisticregression',\n",
       "                 LogisticRegression(C=25.0, random_state=42))])"
      ]
     },
     "execution_count": 37,
     "metadata": {},
     "output_type": "execute_result"
    }
   ],
   "source": [
    "from sklearn.pipeline import Pipeline\n",
    "tpot.fitted_pipeline_"
   ]
  },
  {
   "cell_type": "code",
   "execution_count": 38,
   "id": "ca15bf24",
   "metadata": {},
   "outputs": [],
   "source": [
    "from sklearn.linear_model import LogisticRegression\n",
    "from sklearn.svm import SVR\n",
    "from sklearn.tree import DecisionTreeRegressor\n",
    "from sklearn.neighbors import KNeighborsRegressor\n",
    "from sklearn.ensemble import RandomForestRegressor\n",
    "from sklearn.ensemble import AdaBoostRegressor\n",
    "from sklearn.ensemble import BaggingRegressor\n",
    "from sklearn.ensemble import ExtraTreesRegressor\n",
    "from sklearn.ensemble import GradientBoostingRegressor\n",
    "from xgboost import XGBRegressor"
   ]
  },
  {
   "cell_type": "code",
   "execution_count": 39,
   "id": "57417d41",
   "metadata": {},
   "outputs": [],
   "source": [
    "# Feature Scaling\n",
    "from sklearn.preprocessing import MaxAbsScaler\n",
    "\n",
    "def model_accuracy_scaled(mod):\n",
    "    model_scaled = Pipeline([\n",
    "        ('scale', MaxAbsScaler()),\n",
    "        ('model', mod)\n",
    "    ])\n",
    "    model_scaled.fit(X_train, y_train)\n",
    "    return model_scaled.score(X_test, y_test)\n",
    "\n",
    "def model_accuracy_unscaled(mod):\n",
    "    model_unscaled = Pipeline([\n",
    "        ('model', mod)\n",
    "    ])\n",
    "    model_unscaled.fit(X_train, y_train)\n",
    "    return model_unscaled.score(X_test, y_test)"
   ]
  },
  {
   "cell_type": "code",
   "execution_count": 40,
   "id": "46d6570e",
   "metadata": {},
   "outputs": [
    {
     "data": {
      "text/plain": [
       "0.7636363636363637"
      ]
     },
     "execution_count": 40,
     "metadata": {},
     "output_type": "execute_result"
    }
   ],
   "source": [
    "model_accuracy_scaled(LogisticRegression())"
   ]
  },
  {
   "cell_type": "code",
   "execution_count": 41,
   "id": "93019461",
   "metadata": {},
   "outputs": [
    {
     "data": {
      "text/plain": [
       "0.7818181818181819"
      ]
     },
     "execution_count": 41,
     "metadata": {},
     "output_type": "execute_result"
    }
   ],
   "source": [
    "model_accuracy_unscaled(LogisticRegression())"
   ]
  },
  {
   "cell_type": "code",
   "execution_count": 42,
   "id": "123a2541",
   "metadata": {},
   "outputs": [
    {
     "data": {
      "text/plain": [
       "0.07669248731440159"
      ]
     },
     "execution_count": 42,
     "metadata": {},
     "output_type": "execute_result"
    }
   ],
   "source": [
    "model_accuracy_scaled(GradientBoostingRegressor())"
   ]
  },
  {
   "cell_type": "code",
   "execution_count": 43,
   "id": "8dca48ef",
   "metadata": {},
   "outputs": [
    {
     "data": {
      "text/plain": [
       "0.07243581036569657"
      ]
     },
     "execution_count": 43,
     "metadata": {},
     "output_type": "execute_result"
    }
   ],
   "source": [
    "model_accuracy_unscaled(GradientBoostingRegressor())"
   ]
  },
  {
   "cell_type": "code",
   "execution_count": 44,
   "id": "9f5f42f7",
   "metadata": {},
   "outputs": [
    {
     "data": {
      "text/plain": [
       "0.0880590463828862"
      ]
     },
     "execution_count": 44,
     "metadata": {},
     "output_type": "execute_result"
    }
   ],
   "source": [
    "model_accuracy_scaled( AdaBoostRegressor())"
   ]
  },
  {
   "cell_type": "code",
   "execution_count": 45,
   "id": "3f2c7dcf",
   "metadata": {},
   "outputs": [
    {
     "data": {
      "text/plain": [
       "0.08485593503993527"
      ]
     },
     "execution_count": 45,
     "metadata": {},
     "output_type": "execute_result"
    }
   ],
   "source": [
    "model_accuracy_unscaled(AdaBoostRegressor())"
   ]
  },
  {
   "cell_type": "markdown",
   "id": "1bfc3044",
   "metadata": {},
   "source": [
    "### Log normalization"
   ]
  },
  {
   "cell_type": "code",
   "execution_count": 46,
   "id": "cc0a0c2c",
   "metadata": {},
   "outputs": [],
   "source": [
    "# normalize the column\n",
    "col_norm = [\"Monetary (c.c. blood)\"]\n",
    "\n",
    "# Copy X_train and X_test into X_train_normed and X_test_normed\n",
    "X_train_normed, X_test_normed = X_train.copy(), X_test.copy()\n",
    "\n",
    "# Log normalization\n",
    "for df_norm in [X_train_normed, X_test_normed]:\n",
    "    # Add log normalized column\n",
    "    df_norm['log_monetary'] = np.log(df_norm[col_norm])\n",
    "    # Drop the original column\n",
    "    df_norm.drop(columns=col_norm, inplace=True)"
   ]
  },
  {
   "cell_type": "code",
   "execution_count": 47,
   "id": "1119054b",
   "metadata": {},
   "outputs": [
    {
     "name": "stdout",
     "output_type": "stream",
     "text": [
      "X_train Value\n",
      "\n",
      "     Recency (months)  Frequency (times)  Monetary (c.c. blood)  Time (months)\n",
      "729                23                  3                    750             39\n",
      "584                 2                  1                    250              2\n",
      "369                16                  5                   1250             40\n",
      "461                21                  1                    250             21\n",
      "258                 4                  3                    750             28\n",
      "------------------------\n",
      "X_train_normed Value\n",
      "\n",
      "     Recency (months)  Frequency (times)  Time (months)  log_monetary\n",
      "729                23                  3             39      6.620073\n",
      "584                 2                  1              2      5.521461\n",
      "369                16                  5             40      7.130899\n",
      "461                21                  1             21      5.521461\n",
      "258                 4                  3             28      6.620073\n"
     ]
    }
   ],
   "source": [
    "# Comparing the values for X_train and X_train_normed\n",
    "print(\"X_train Value\\n\")\n",
    "print(X_train.head())\n",
    "print(\"------------------------\")\n",
    "print(\"X_train_normed Value\\n\")\n",
    "print(X_train_normed.head())"
   ]
  },
  {
   "cell_type": "code",
   "execution_count": 48,
   "id": "04cf888f",
   "metadata": {},
   "outputs": [
    {
     "name": "stdout",
     "output_type": "stream",
     "text": [
      "X_train Variance\n",
      "\n",
      "Recency (months)              49.46\n",
      "Frequency (times)             20.88\n",
      "Monetary (c.c. blood)    1304826.77\n",
      "Time (months)                591.75\n",
      "dtype: float64\n",
      "------------------------\n",
      "X_train_normed Variance\n",
      "\n",
      "Recency (months)      49.46\n",
      "Frequency (times)     20.88\n",
      "Time (months)        591.75\n",
      "log_monetary           0.79\n",
      "dtype: float64\n"
     ]
    }
   ],
   "source": [
    "# Comparing the variance for X_train and X_train_normed\n",
    "print(\"X_train Variance\\n\")\n",
    "print(X_train.var().round(2))\n",
    "print(\"------------------------\")\n",
    "print(\"X_train_normed Variance\\n\")\n",
    "print(X_train_normed.var().round(2))"
   ]
  },
  {
   "cell_type": "markdown",
   "id": "7684816e",
   "metadata": {},
   "source": [
    "### Training the regression model"
   ]
  },
  {
   "cell_type": "code",
   "execution_count": 49,
   "id": "c5cd0a9e",
   "metadata": {},
   "outputs": [
    {
     "data": {
      "text/plain": [
       "LogisticRegression(C=25.0, random_state=42)"
      ]
     },
     "execution_count": 49,
     "metadata": {},
     "output_type": "execute_result"
    }
   ],
   "source": [
    "from sklearn.linear_model import LogisticRegression\n",
    "logreg = LogisticRegression(C=25.0, random_state=42)\n",
    "# Train the model\n",
    "logreg.fit(X_train_normed, y_train)"
   ]
  },
  {
   "cell_type": "code",
   "execution_count": 50,
   "id": "d10b3755",
   "metadata": {},
   "outputs": [
    {
     "name": "stdout",
     "output_type": "stream",
     "text": [
      "\n",
      "AUC score: 0.7496\n"
     ]
    }
   ],
   "source": [
    "# AUC score for tpot model\n",
    "logreg_auc_score = roc_auc_score(y_test, logreg.predict_proba(X_test_normed)[:, 1])\n",
    "print(f'\\nAUC score: {logreg_auc_score:.4f}')"
   ]
  },
  {
   "cell_type": "code",
   "execution_count": 51,
   "id": "99c36b4c",
   "metadata": {},
   "outputs": [
    {
     "data": {
      "text/plain": [
       "[('logreg', 0.7495649147232858), ('tpot', 0.7290288896623738)]"
      ]
     },
     "execution_count": 51,
     "metadata": {},
     "output_type": "execute_result"
    }
   ],
   "source": [
    "# Importing itemgetter\n",
    "from operator import itemgetter\n",
    "\n",
    "# Sort models based on their AUC score from highest to lowest\n",
    "sorted(\n",
    "    [('tpot', tpot_auc_score), ('logreg', logreg_auc_score)],\n",
    "    key=itemgetter(1),\n",
    "    reverse=True)"
   ]
  },
  {
   "cell_type": "code",
   "execution_count": 52,
   "id": "0872d596",
   "metadata": {},
   "outputs": [],
   "source": [
    "y_pred = logreg.predict(X_test)"
   ]
  },
  {
   "cell_type": "code",
   "execution_count": 53,
   "id": "e45ec116",
   "metadata": {},
   "outputs": [
    {
     "name": "stdout",
     "output_type": "stream",
     "text": [
      "MAE: 0.36818181818181817\n",
      "MSE: 0.36818181818181817\n",
      "RMSE: 0.6067798762169179\n"
     ]
    }
   ],
   "source": [
    "from sklearn import metrics\n",
    "print('MAE:', metrics.mean_absolute_error(y_test, y_pred))\n",
    "print('MSE:', metrics.mean_squared_error(y_test, y_pred))\n",
    "print('RMSE:', np.sqrt(metrics.mean_squared_error(y_test, y_pred)))"
   ]
  },
  {
   "cell_type": "code",
   "execution_count": 54,
   "id": "7622c9ad",
   "metadata": {},
   "outputs": [
    {
     "data": {
      "text/plain": [
       "array([[134,  46],\n",
       "       [ 35,   5]], dtype=int64)"
      ]
     },
     "execution_count": 54,
     "metadata": {},
     "output_type": "execute_result"
    }
   ],
   "source": [
    "#Confusion matrix\n",
    "confusion_matrix(y_pred,y_test)"
   ]
  },
  {
   "cell_type": "code",
   "execution_count": 56,
   "id": "9068601c",
   "metadata": {},
   "outputs": [
    {
     "name": "stdout",
     "output_type": "stream",
     "text": [
      "              precision    recall  f1-score   support\n",
      "\n",
      "           0       0.74      0.79      0.77       169\n",
      "           1       0.12      0.10      0.11        51\n",
      "\n",
      "    accuracy                           0.63       220\n",
      "   macro avg       0.43      0.45      0.44       220\n",
      "weighted avg       0.60      0.63      0.62       220\n",
      "\n"
     ]
    },
    {
     "data": {
      "text/plain": [
       "0.6318181818181818"
      ]
     },
     "execution_count": 56,
     "metadata": {},
     "output_type": "execute_result"
    }
   ],
   "source": [
    "from sklearn.metrics import classification_report\n",
    "print(classification_report(y_test,y_pred))\n",
    "logreg.score(X_test, y_test)"
   ]
  },
  {
   "cell_type": "markdown",
   "id": "b0ab59bc",
   "metadata": {},
   "source": [
    "### Saving the prediction"
   ]
  },
  {
   "cell_type": "code",
   "execution_count": 57,
   "id": "387bc0e0",
   "metadata": {},
   "outputs": [],
   "source": [
    "pred_report = pd.DataFrame(y_pred.tolist(),columns=[\"Made Donation in March 2007\"])\n",
    "# saving the prediction\n",
    "pred_report.to_csv(\"final_submission.csv\")"
   ]
  },
  {
   "cell_type": "markdown",
   "id": "18b31f3a",
   "metadata": {},
   "source": [
    "### Modeling"
   ]
  },
  {
   "cell_type": "code",
   "execution_count": 58,
   "id": "e10adf04",
   "metadata": {},
   "outputs": [
    {
     "name": "stdout",
     "output_type": "stream",
     "text": [
      "[1]\n"
     ]
    }
   ],
   "source": [
    "import pickle\n",
    "\n",
    "# Saving model to disk\n",
    "pickle.dump(logreg, open('model.pkl','wb'))\n",
    "\n",
    "# Loading model to compare the results\n",
    "model = pickle.load(open('model.pkl', 'rb'))\n",
    "print(model.predict([[1, 2, 42, 64]]))"
   ]
  }
 ],
 "metadata": {
  "kernelspec": {
   "display_name": "Python 3 (ipykernel)",
   "language": "python",
   "name": "python3"
  },
  "language_info": {
   "codemirror_mode": {
    "name": "ipython",
    "version": 3
   },
   "file_extension": ".py",
   "mimetype": "text/x-python",
   "name": "python",
   "nbconvert_exporter": "python",
   "pygments_lexer": "ipython3",
   "version": "3.9.12"
  }
 },
 "nbformat": 4,
 "nbformat_minor": 5
}
